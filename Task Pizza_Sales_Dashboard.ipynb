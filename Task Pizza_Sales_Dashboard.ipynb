{
 "cells": [
  {
   "cell_type": "code",
   "execution_count": 4,
   "id": "e51ccec2",
   "metadata": {},
   "outputs": [
    {
     "name": "stdout",
     "output_type": "stream",
     "text": [
      "Dashboard saved as Pizza_Sales_Dashboard.pdf\n"
     ]
    }
   ],
   "source": [
    "import pandas as pd\n",
    "import matplotlib.pyplot as plt\n",
    "import seaborn as sns\n",
    "from matplotlib.backends.backend_pdf import PdfPages\n",
    "\n",
    "\n",
    "file_path = 'Pizza_sales.xlsx' \n",
    "xls = pd.ExcelFile(file_path)\n",
    "sales_data = pd.read_excel(xls, 'Sales')\n",
    "pizza_data = pd.read_excel(xls, 'Pizza Data')\n",
    "\n",
    "\n",
    "sales_data['order_date'] = pd.to_datetime(sales_data['order_date'])\n",
    "\n",
    "\n",
    "total_revenue = sales_data['total_price'].sum()\n",
    "total_pizzas_sold = sales_data['quantity'].sum()\n",
    "\n",
    "\n",
    "top_selling_pizzas = sales_data.groupby('pizza_id')['quantity'].sum().reset_index()\n",
    "top_selling_pizzas = top_selling_pizzas.merge(pizza_data[['pizza_id', 'pizza_name']], on='pizza_id')\n",
    "top_selling_pizzas = top_selling_pizzas.sort_values('quantity', ascending=False).head(5)\n",
    "\n",
    "\n",
    "sales_by_category = sales_data.merge(pizza_data[['pizza_id', 'pizza_category']], on='pizza_id')\n",
    "category_sales = sales_by_category.groupby('pizza_category')['total_price'].sum().reset_index()\n",
    "\n",
    "\n",
    "sales_over_time = sales_data.groupby(sales_data['order_date'].dt.to_period('M'))['total_price'].sum().reset_index()\n",
    "sales_over_time['order_date'] = sales_over_time['order_date'].dt.to_timestamp()\n",
    "\n",
    "\n",
    "pdf_path = 'Pizza_Sales_Dashboard.pdf'\n",
    "with PdfPages(pdf_path) as pdf:\n",
    "    \n",
    "    plt.figure(figsize=(8, 5))\n",
    "    plt.bar(['Total Revenue', 'Total Pizzas Sold'], [total_revenue, total_pizzas_sold], color=['blue', 'orange'])\n",
    "    plt.title('Total Sales Overview')\n",
    "    plt.ylabel('Amount')\n",
    "    pdf.savefig()\n",
    "    plt.close()\n",
    "\n",
    "    \n",
    "    plt.figure(figsize=(8, 5))\n",
    "    sns.barplot(data=top_selling_pizzas, x='quantity', y='pizza_name', palette='Blues_d')\n",
    "    plt.title('Top 5 Selling Pizzas')\n",
    "    plt.xlabel('Quantity Sold')\n",
    "    pdf.savefig()\n",
    "    plt.close()\n",
    "\n",
    "    \n",
    "    plt.figure(figsize=(8, 5))\n",
    "    sns.barplot(data=category_sales, x='total_price', y='pizza_category', palette='viridis')\n",
    "    plt.title('Sales by Pizza Category')\n",
    "    plt.xlabel('Total Sales ($)')\n",
    "    pdf.savefig()\n",
    "    plt.close()\n",
    "\n",
    "    \n",
    "    plt.figure(figsize=(8, 5))\n",
    "    plt.plot(sales_over_time['order_date'], sales_over_time['total_price'], marker='o', linestyle='-')\n",
    "    plt.title('Sales Over Time (Monthly)')\n",
    "    plt.xlabel('Date')\n",
    "    plt.ylabel('Total Sales ($)')\n",
    "    plt.grid(True)\n",
    "    pdf.savefig()\n",
    "    plt.close()\n",
    "\n",
    "print(f'Dashboard saved as {pdf_path}')\n"
   ]
  },
  {
   "cell_type": "code",
   "execution_count": null,
   "id": "c4de5bc7",
   "metadata": {},
   "outputs": [],
   "source": []
  }
 ],
 "metadata": {
  "kernelspec": {
   "display_name": "Python 3 (ipykernel)",
   "language": "python",
   "name": "python3"
  },
  "language_info": {
   "codemirror_mode": {
    "name": "ipython",
    "version": 3
   },
   "file_extension": ".py",
   "mimetype": "text/x-python",
   "name": "python",
   "nbconvert_exporter": "python",
   "pygments_lexer": "ipython3",
   "version": "3.11.5"
  }
 },
 "nbformat": 4,
 "nbformat_minor": 5
}
